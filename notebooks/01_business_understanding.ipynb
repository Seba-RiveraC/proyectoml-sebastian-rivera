{
 "cells": [
  {
   "cell_type": "markdown",
   "id": "3396e53a",
   "metadata": {},
   "source": [
    "# Fase 1: Comprensión del Negocio (Business Understanding)\n",
    "\n",
    "El objetivo principal del analisis a desarrollar es recopilar informacion valiosa acerca de como la economia de un pais puede afectar la esperanza de vida de su poblacion\n",
    "\n",
    "\n",
    "Para abordar los objetivos de negocio, se definen los siguientes objetivos técnicos:\n",
    "\n",
    "1.  **Objetivo Descriptivo:** Integrar los datasets de PIB y esperanza de vida para construir una **\"tabla maestra\"** única y limpia. Esta tabla permitirá realizar un Análisis Exploratorio de Datos (EDA) para visualizar y cuantificar la correlación histórica entre las variables económicas y la esperanza de vida.\n",
    "\n",
    "---\n",
    "\n",
    "El proyecto se ejecutará siguiendo las primeras tres fases de la metodología CRISP-DM, utilizando el framework Kedro para garantizar la reproducibilidad y modularidad del proceso.\n",
    "\n",
    "* **Fase 1: Comprensión del Negocio :** Definición de los objetivos y el plan de acción.\n",
    "* **Fase 2: Comprensión de los Datos:** Análisis Exploratorio de Datos sobre la tabla maestra final para validar la calidad de los datos, identificar patrones y confirmar la hipótesis de correlación.\n",
    "* **Fase 3: Preparación de los Datos:** Construcción de un pipeline de datos con Kedro para automatizar la extracción, limpieza, combinación y transformación de los datos crudos, generando la tabla maestra como salida principal."
   ]
  }
 ],
 "metadata": {
  "kernelspec": {
   "display_name": "Kedro (proyectoml_sebastian_rivera)",
   "language": "python",
   "name": "kedro_proyectoml_sebastian_rivera"
  },
  "language_info": {
   "codemirror_mode": {
    "name": "ipython",
    "version": 3
   },
   "file_extension": ".py",
   "mimetype": "text/x-python",
   "name": "python",
   "nbconvert_exporter": "python",
   "pygments_lexer": "ipython3",
   "version": "3.11.9"
  }
 },
 "nbformat": 4,
 "nbformat_minor": 5
}
